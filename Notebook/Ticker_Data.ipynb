{
 "cells": [
  {
   "cell_type": "code",
   "execution_count": 1,
   "metadata": {},
   "outputs": [],
   "source": [
    "from timeit import default_timer as timer"
   ]
  },
  {
   "cell_type": "code",
   "execution_count": 2,
   "metadata": {},
   "outputs": [],
   "source": [
    "import fxcmpy\n",
    "import configparser"
   ]
  },
  {
   "cell_type": "code",
   "execution_count": 3,
   "metadata": {},
   "outputs": [],
   "source": [
    "config = configparser.ConfigParser()\n",
    "config.read('../credentials.cfg')\n",
    "token = config['FXCM']['api_token']"
   ]
  },
  {
   "cell_type": "code",
   "execution_count": 4,
   "metadata": {},
   "outputs": [],
   "source": [
    "con = fxcmpy.fxcmpy(access_token=token,log_level='error',server='demo')"
   ]
  },
  {
   "cell_type": "code",
   "execution_count": 5,
   "metadata": {},
   "outputs": [],
   "source": [
    "class Period:\n",
    "    def __init__(self):\n",
    "        self.oneMinute = 'm1'\n",
    "        self.fiveMinute = 'm5'\n",
    "        self.fifteenMinute = 'm15'\n",
    "        self.thirtyMinute = 'm30'\n",
    "        self.oneHour = 'H1'\n",
    "        self.twoHour = 'H2'\n",
    "        self.threeHour = 'H3'\n",
    "        self.fourHour = 'H4'\n",
    "        self.sixHour = 'H6'\n",
    "        self.eightHour = 'H8'\n",
    "        self.oneDay = 'D1'\n",
    "        self.oneWeek = 'W1'\n",
    "        self.oneMonth = 'M1'\n",
    "\n",
    "interval = Period()"
   ]
  },
  {
   "cell_type": "code",
   "execution_count": 6,
   "metadata": {},
   "outputs": [],
   "source": [
    "# performace Test\n",
    "# start = timer()\n",
    "# df = con.get_candles('EUR/USD',period=interval.oneMinute,number=2000)\n",
    "# end = timer()\n",
    "# print(end - start)"
   ]
  },
  {
   "cell_type": "code",
   "execution_count": 11,
   "metadata": {},
   "outputs": [],
   "source": [
    "def ohlcv(ticker,period=interval.oneMinute,ticks=20):\n",
    "    df = con.get_candles(ticker,period=period,number=ticks)\n",
    "    o = 'open'\n",
    "    h = 'high'\n",
    "    l = 'low'\n",
    "    c = 'close'\n",
    "    df[o] = (df[f'bid{o}']+df[f'ask{o}'])/2\n",
    "    df[h] = (df[f'bid{h}']+df[f'ask{h}'])/2\n",
    "    df[l] = (df[f'bid{l}']+df[f'ask{l}'])/2\n",
    "    df[c] = (df[f'bid{c}']+df[f'ask{c}'])/2\n",
    "    df.drop(df.columns[[0,1,2,3,4,5,6,7]],axis=1,inplace=True)\n",
    "    df.rename(columns={'tickqty':'vol'},inplace=True)\n",
    "    return df"
   ]
  },
  {
   "cell_type": "code",
   "execution_count": null,
   "metadata": {},
   "outputs": [],
   "source": []
  }
 ],
 "metadata": {
  "kernelspec": {
   "display_name": "Python 3",
   "language": "python",
   "name": "python3"
  },
  "language_info": {
   "codemirror_mode": {
    "name": "ipython",
    "version": 3
   },
   "file_extension": ".py",
   "mimetype": "text/x-python",
   "name": "python",
   "nbconvert_exporter": "python",
   "pygments_lexer": "ipython3",
   "version": "3.8.0"
  }
 },
 "nbformat": 4,
 "nbformat_minor": 2
}
