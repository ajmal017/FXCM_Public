{
 "cells": [
  {
   "cell_type": "code",
   "execution_count": 1,
   "metadata": {},
   "outputs": [],
   "source": [
    "from ohlcv import interval, ohlcv"
   ]
  },
  {
   "cell_type": "code",
   "execution_count": 2,
   "metadata": {},
   "outputs": [],
   "source": [
    "import pandas as pd\n",
    "from math import atan"
   ]
  },
  {
   "cell_type": "code",
   "execution_count": 3,
   "metadata": {},
   "outputs": [],
   "source": [
    "df = ohlcv(\"EUR/USD\",period=interval.oneHour,ticks=50)"
   ]
  },
  {
   "cell_type": "code",
   "execution_count": 4,
   "metadata": {},
   "outputs": [],
   "source": [
    "def VWAP(ohlcv):\n",
    "    df = ohlcv.copy()\n",
    "    df['cumVol'] = df['vol'].cumsum()\n",
    "    df['cum_ohc3Vol'] = (((df[['open','high','close']].sum(axis=1))/3)*df['vol']).cumsum()\n",
    "    df['VWAP'] = df['cum_ohc3Vol']/df['cumVol']\n",
    "    df.drop(df.columns[[5,6]],axis=1,inplace=True)\n",
    "    return df\n",
    "\n",
    "def slope(df,col,n):\n",
    "    \"\"\"\n",
    "    n = bars back\n",
    "    \"\"\"\n",
    "    df = df.copy()\n",
    "    ser = df[col]\n",
    "    slp = []\n",
    "    for i,x in enumerate(ser):\n",
    "        if i < n:\n",
    "            slp.append(0)\n",
    "            continue\n",
    "        #getting values to find the slope\n",
    "        b = ser[i]\n",
    "        a = ser[i-n]\n",
    "        slope = atan((b-a)/n)\n",
    "        slp.append(slope)\n",
    "    df[f'{col}_Slope'] = pd.Series(slp,index=df.index)\n",
    "    return df"
   ]
  },
  {
   "cell_type": "code",
   "execution_count": 5,
   "metadata": {},
   "outputs": [],
   "source": [
    "def vwap_slope(ohlcv_data):\n",
    "    df = ohlcv_data.copy()\n",
    "    df = VWAP(df)\n",
    "    df = slope(df,'VWAP',3)\n",
    "    return df\n",
    "\n",
    "def o_c(ohlcv,n=33):\n",
    "    df = ohlcv.copy()\n",
    "    o = df['open'].rolling(window=n).mean()\n",
    "    c = df['close'].rolling(window=n).mean()\n",
    "    df['o_c'] = c-o\n",
    "    df.dropna(inplace=True)\n",
    "    return df"
   ]
  },
  {
   "cell_type": "code",
   "execution_count": 6,
   "metadata": {},
   "outputs": [],
   "source": [
    "df = vwap_slope(df)\n",
    "df = o_c(df)"
   ]
  },
  {
   "cell_type": "code",
   "execution_count": 7,
   "metadata": {},
   "outputs": [],
   "source": [
    "df['v_s'] = df['VWAP_Slope'].apply(lambda x: 1 if x>0 else 0)\n",
    "df['o_s'] = df['o_c'].apply(lambda x: 1 if x>0 else 0)\n"
   ]
  },
  {
   "cell_type": "code",
   "execution_count": 8,
   "metadata": {},
   "outputs": [],
   "source": [
    "import numpy as np"
   ]
  },
  {
   "cell_type": "code",
   "execution_count": 9,
   "metadata": {},
   "outputs": [],
   "source": [
    "df['sell'] = np.where(((df['v_s']==0) & (df['o_s']==0)),-1,0)"
   ]
  },
  {
   "cell_type": "code",
   "execution_count": 10,
   "metadata": {},
   "outputs": [],
   "source": [
    "df['buy'] = np.where(((df['v_s']==1) & (df['o_s']==1)),1,0)"
   ]
  },
  {
   "cell_type": "code",
   "execution_count": 11,
   "metadata": {},
   "outputs": [],
   "source": [
    "df['signal'] = np.where(((df.sell==-1)|((df.sell==0)&(df.buy==0))),df.sell,df.buy)"
   ]
  },
  {
   "cell_type": "code",
   "execution_count": 12,
   "metadata": {},
   "outputs": [
    {
     "data": {
      "text/plain": [
       "<matplotlib.axes._subplots.AxesSubplot at 0x7ff453cf61c0>"
      ]
     },
     "execution_count": 12,
     "metadata": {},
     "output_type": "execute_result"
    },
    {
     "data": {
      "image/png": "[encoded data removed]",
      "text/plain": [
       "<Figure size 432x288 with 1 Axes>"
      ]
     },
     "metadata": {
      "needs_background": "light"
     },
     "output_type": "display_data"
    }
   ],
   "source": [
    "df.signal.plot()"
   ]
  },
  {
   "cell_type": "code",
   "execution_count": null,
   "metadata": {},
   "outputs": [],
   "source": []
  },
  {
   "cell_type": "code",
   "execution_count": null,
   "metadata": {},
   "outputs": [],
   "source": []
  }
 ],
 "metadata": {
  "kernelspec": {
   "display_name": "Python 3",
   "language": "python",
   "name": "python3"
  },
  "language_info": {
   "codemirror_mode": {
    "name": "ipython",
    "version": 3
   },
   "file_extension": ".py",
   "mimetype": "text/x-python",
   "name": "python",
   "nbconvert_exporter": "python",
   "pygments_lexer": "ipython3",
   "version": "3.8.0"
  }
 },
 "nbformat": 4,
 "nbformat_minor": 2
}