{
 "cells": [
  {
   "cell_type": "code",
   "execution_count": null,
   "metadata": {},
   "outputs": [],
   "source": [
    "from ohlcv import interval, ohlcv\n",
    "import pandas as pd\n",
    "from math import atan"
   ]
  },
  {
   "cell_type": "code",
   "execution_count": null,
   "metadata": {},
   "outputs": [],
   "source": [
    "def VWAP(ohlcv):\n",
    "    df = ohlcv.copy()\n",
    "    df['cumVol'] = df['vol'].cumsum()\n",
    "    df['cum_ohc3Vol'] = (((df[['open','high','close']].sum(axis=1))/3)*df['vol']).cumsum()\n",
    "    df['VWAP'] = df['cum_ohc3Vol']/df['cumVol']\n",
    "    df.drop(df.columns[[5,6]],axis=1,inplace=True)\n",
    "    return df"
   ]
  },
  {
   "cell_type": "code",
   "execution_count": null,
   "metadata": {},
   "outputs": [],
   "source": [
    "def slope(df,col,n):\n",
    "    \"\"\"\n",
    "    n = bars back\n",
    "    \"\"\"\n",
    "    df = df.copy()\n",
    "    ser = df[col]\n",
    "    slp = []\n",
    "    for i,x in enumerate(ser):\n",
    "        if i < n:\n",
    "            slp.append(0)\n",
    "            continue\n",
    "        #getting values to find the slope\n",
    "        b = ser[i]\n",
    "        a = ser[i-n]\n",
    "        slope = atan((b-a)/n)\n",
    "        slp.append(slope)\n",
    "    df[f'{col}_Slope'] = pd.Series(slp,index=df.index)\n",
    "    return df"
   ]
  },
  {
   "cell_type": "code",
   "execution_count": null,
   "metadata": {},
   "outputs": [],
   "source": [
    "def vwap_slope(ohlcv_data):\n",
    "    df = ohlcv_data.copy()\n",
    "    df = VWAP(df)\n",
    "    df = slope(df,'VWAP',3)\n",
    "    return df"
   ]
  },
  {
   "cell_type": "code",
   "execution_count": null,
   "metadata": {},
   "outputs": [],
   "source": []
  }
 ],
 "metadata": {
  "kernelspec": {
   "display_name": "Python 3",
   "language": "python",
   "name": "python3"
  },
  "language_info": {
   "codemirror_mode": {
    "name": "ipython",
    "version": 3
   },
   "file_extension": ".py",
   "mimetype": "text/x-python",
   "name": "python",
   "nbconvert_exporter": "python",
   "pygments_lexer": "ipython3",
   "version": "3.8.0"
  }
 },
 "nbformat": 4,
 "nbformat_minor": 2
}
